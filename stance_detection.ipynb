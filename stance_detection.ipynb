{
  "cells": [
    {
      "cell_type": "code",
      "execution_count": 60,
      "metadata": {
        "colab": {
          "base_uri": "https://localhost:8080/"
        },
        "id": "hkIbzt1UTBxq",
        "outputId": "800f3df5-969c-41ac-b30b-7617648af5a7"
      },
      "outputs": [
        {
          "name": "stdout",
          "output_type": "stream",
          "text": [
            "python version:  3.10.14 (main, May  6 2024, 14:47:20) [Clang 14.0.6 ]\n",
            "tf version:  2.12.0\n",
            "transformers version: 4.27.3\n"
          ]
        }
      ],
      "source": [
        "import os\n",
        "os.environ['TF_CPP_MIN_LOG_LEVEL'] = '2'\n",
        "import logging\n",
        "logging.getLogger(\"tensorflow\").setLevel(logging.ERROR)\n",
        "import random\n",
        "import sys\n",
        "import tensorflow as tf\n",
        "import transformers\n",
        "from transformers import DistilBertTokenizerFast, TFDistilBertModel, logging\n",
        "logging.set_verbosity_error()\n",
        "from sklearn.metrics import classification_report\n",
        "import pandas as pd\n",
        "import numpy as np\n",
        "import matplotlib.pyplot as plt\n",
        "\n",
        "K = tf.keras\n",
        "\n",
        "print('python version: ', sys.version)\n",
        "print('tf version: ', tf.__version__)\n",
        "print('transformers version:', transformers.__version__)"
      ]
    },
    {
      "cell_type": "code",
      "execution_count": 61,
      "metadata": {
        "colab": {
          "base_uri": "https://localhost:8080/"
        },
        "id": "7VJGwNK5TF9H",
        "outputId": "3652494c-c6ec-462b-ed06-a94bd8494a12"
      },
      "outputs": [
        {
          "name": "stdout",
          "output_type": "stream",
          "text": [
            "                                                text  label\n",
            "0  @user Bless Almighty God, Almighty Holy Spirit...      1\n",
            "1  Take away hatred from some people, and you hav...      1\n",
            "2  I took my troubles to the Lord: I cried out to...      1\n",
            "3  You can't think by yourself about life and bel...      2\n",
            "4  RT @user Humanist love to everyone at #100AEUA...      0\n"
          ]
        }
      ],
      "source": [
        "stance_dataset = 'atheism'\n",
        "\n",
        "df_train = pd.read_csv(f'./archive/stance_{stance_dataset}_train.csv')\n",
        "df_test = pd.read_csv(f'./archive/stance_{stance_dataset}_test.csv')\n",
        "df_val = pd.read_csv(f'./archive/stance_{stance_dataset}_validation.csv')\n",
        "print(df_train.head())"
      ]
    },
    {
      "cell_type": "code",
      "execution_count": 62,
      "metadata": {
        "colab": {
          "base_uri": "https://localhost:8080/",
          "height": 581
        },
        "id": "JIGv1GA-il03",
        "outputId": "381fb38e-6b0f-44db-c1d0-54b4832b594b"
      },
      "outputs": [
        {
          "data": {
            "image/png": "[encoded data removed]",
            "text/plain": [
              "<Figure size 800x600 with 1 Axes>"
            ]
          },
          "metadata": {},
          "output_type": "display_data"
        },
        {
          "data": {
            "text/plain": [
              "{1: 0.5921908893709328, 2: 0.18004338394793926, 0: 0.227765726681128}"
            ]
          },
          "execution_count": 62,
          "metadata": {},
          "output_type": "execute_result"
        }
      ],
      "source": [
        "class_counts = df_train['label'].value_counts()\n",
        "\n",
        "plt.figure(figsize=(8, 6))\n",
        "plt.bar(class_counts.index, class_counts)\n",
        "plt.xlabel('Class')\n",
        "plt.ylabel('Count')\n",
        "plt.title('Class Distribution')\n",
        "plt.show()\n",
        "\n",
        "class_weights = {class_label: len(df_train[df_train['label'] == class_label]) / len(df_train) for class_label in df_train['label'].unique()}\n",
        "class_weights"
      ]
    },
    {
      "cell_type": "code",
      "execution_count": 63,
      "metadata": {
        "id": "0lWUts5VnGq5"
      },
      "outputs": [],
      "source": [
        "BERT_MODEL_NAME = 'distilbert-base-uncased'\n",
        "MAX_SEQUENCE_LENGTH = 512\n",
        "NUM_BASE_MODEL_OUTPUT = 768\n",
        "BATCH_SIZE = 4\n",
        "NUM_LABELS = df_train['label'].nunique()"
      ]
    },
    {
      "cell_type": "code",
      "execution_count": 64,
      "metadata": {
        "colab": {
          "base_uri": "https://localhost:8080/"
        },
        "id": "8iMRtDCYh98G",
        "outputId": "f7119ab0-1c15-493b-dae3-7c8885003d6b"
      },
      "outputs": [
        {
          "name": "stdout",
          "output_type": "stream",
          "text": [
            "env: TOKENIZERS_PARALLELISM=false\n",
            "input_ids: (461, 512), attention_mask: (461, 512), labels: (461,)\n",
            "input_ids: (220, 512), attention_mask: (220, 512), labels: (220,)\n",
            "input_ids: (52, 512), attention_mask: (52, 512), labels: (52,)\n"
          ]
        }
      ],
      "source": [
        "%env TOKENIZERS_PARALLELISM=false\n",
        "\n",
        "tokenizer = DistilBertTokenizerFast.from_pretrained(BERT_MODEL_NAME, resume_download=None)\n",
        "tokenize = lambda text: tokenizer(text, truncation=True, padding='max_length', max_length=512, return_tensors=\"tf\")\n",
        "\n",
        "def prepare_dataset(df, shuffle=False):\n",
        "  t = tokenize(df['text'].tolist())\n",
        "  print(f\"input_ids: {t['input_ids'].shape}, attention_mask: {t['attention_mask'].shape}, labels: {df['label'].shape}\")\n",
        "  dataset = tf.data.Dataset.from_tensor_slices((dict(t), df['label']))\n",
        "  dataset = dataset.batch(BATCH_SIZE, drop_remainder=True).prefetch(1)\n",
        "  if shuffle:\n",
        "    dataset = dataset.shuffle(buffer_size=len(df_train), reshuffle_each_iteration=True)\n",
        "  return dataset\n",
        "\n",
        "\n",
        "train_dataset = prepare_dataset(df_train, shuffle=True)\n",
        "test_dataset = prepare_dataset(df_test)\n",
        "val_dataset = prepare_dataset(df_val)"
      ]
    },
    {
      "cell_type": "code",
      "execution_count": 65,
      "metadata": {
        "colab": {
          "base_uri": "https://localhost:8080/"
        },
        "id": "qHDgGeI9G5BJ",
        "outputId": "b85edf16-87d1-444d-c0d0-3fd6706d9ea9"
      },
      "outputs": [
        {
          "name": "stdout",
          "output_type": "stream",
          "text": [
            "Model: \"bert-base-model\"\n",
            "__________________________________________________________________________________________________\n",
            " Layer (type)                   Output Shape         Param #     Connected to                     \n",
            "==================================================================================================\n",
            " input_ids (InputLayer)         [(None, 512)]        0           []                               \n",
            "                                                                                                  \n",
            " attention_mask (InputLayer)    [(None, 512)]        0           []                               \n",
            "                                                                                                  \n",
            " tf_distil_bert_model_10 (TFDis  TFBaseModelOutput(l  66362880   ['input_ids[0][0]',              \n",
            " tilBertModel)                  ast_hidden_state=(N               'attention_mask[0][0]']         \n",
            "                                one, 512, 768),                                                   \n",
            "                                 hidden_states=None                                               \n",
            "                                , attentions=None)                                                \n",
            "                                                                                                  \n",
            " tf.__operators__.getitem_10 (S  (None, 768)         0           ['tf_distil_bert_model_10[0][0]']\n",
            " licingOpLambda)                                                                                  \n",
            "                                                                                                  \n",
            "==================================================================================================\n",
            "Total params: 66,362,880\n",
            "Trainable params: 66,362,880\n",
            "Non-trainable params: 0\n",
            "__________________________________________________________________________________________________\n"
          ]
        }
      ],
      "source": [
        "input_ids = tf.keras.layers.Input(shape=(MAX_SEQUENCE_LENGTH,), dtype=tf.int32, name='input_ids')\n",
        "attention_mask = tf.keras.layers.Input((MAX_SEQUENCE_LENGTH,), dtype=tf.int32, name='attention_mask')\n",
        "\n",
        "base = TFDistilBertModel.from_pretrained(BERT_MODEL_NAME, num_labels=NUM_LABELS, resume_download=None)\n",
        "for layer in base.layers[-2:]:  # Unfreeze the last layer\n",
        "    layer.trainable = True\n",
        "\n",
        "output = base([input_ids, attention_mask]).last_hidden_state[:, 0, :] # Output [CLS] Embedding\n",
        "base_model = K.models.Model(inputs=[input_ids, attention_mask], outputs=output, name='bert-base-model')\n",
        "base_model.summary()"
      ]
    },
    {
      "cell_type": "code",
      "execution_count": 66,
      "metadata": {
        "colab": {
          "base_uri": "https://localhost:8080/"
        },
        "id": "76y3zflEnRNc",
        "outputId": "2a29984d-73dd-4397-cabf-df0bc12b8e94"
      },
      "outputs": [
        {
          "name": "stdout",
          "output_type": "stream",
          "text": [
            "Model: \"stance-model\"\n",
            "__________________________________________________________________________________________________\n",
            " Layer (type)                   Output Shape         Param #     Connected to                     \n",
            "==================================================================================================\n",
            " input_ids (InputLayer)         [(None, 512)]        0           []                               \n",
            "                                                                                                  \n",
            " attention_mask (InputLayer)    [(None, 512)]        0           []                               \n",
            "                                                                                                  \n",
            " tf_distil_bert_model_10 (TFDis  TFBaseModelOutput(l  66362880   ['input_ids[0][0]',              \n",
            " tilBertModel)                  ast_hidden_state=(N               'attention_mask[0][0]']         \n",
            "                                one, 512, 768),                                                   \n",
            "                                 hidden_states=None                                               \n",
            "                                , attentions=None)                                                \n",
            "                                                                                                  \n",
            " tf.__operators__.getitem_10 (S  (None, 768)         0           ['tf_distil_bert_model_10[0][0]']\n",
            " licingOpLambda)                                                                                  \n",
            "                                                                                                  \n",
            " dropout_215 (Dropout)          (None, 768)          0           ['tf.__operators__.getitem_10[0][\n",
            "                                                                 0]']                             \n",
            "                                                                                                  \n",
            " dense_9 (Dense)                (None, 768)          590592      ['dropout_215[0][0]']            \n",
            "                                                                                                  \n",
            " batch_normalization_6 (BatchNo  (None, 768)         3072        ['dense_9[0][0]']                \n",
            " rmalization)                                                                                     \n",
            "                                                                                                  \n",
            " activation_6 (Activation)      (None, 768)          0           ['batch_normalization_6[0][0]']  \n",
            "                                                                                                  \n",
            " dropout_216 (Dropout)          (None, 768)          0           ['activation_6[0][0]']           \n",
            "                                                                                                  \n",
            " dense_10 (Dense)               (None, 768)          590592      ['dropout_216[0][0]']            \n",
            "                                                                                                  \n",
            " batch_normalization_7 (BatchNo  (None, 768)         3072        ['dense_10[0][0]']               \n",
            " rmalization)                                                                                     \n",
            "                                                                                                  \n",
            " activation_7 (Activation)      (None, 768)          0           ['batch_normalization_7[0][0]']  \n",
            "                                                                                                  \n",
            " dense_11 (Dense)               (None, 3)            2307        ['activation_7[0][0]']           \n",
            "                                                                                                  \n",
            "==================================================================================================\n",
            "Total params: 67,552,515\n",
            "Trainable params: 67,549,443\n",
            "Non-trainable params: 3,072\n",
            "__________________________________________________________________________________________________\n"
          ]
        }
      ],
      "source": [
        "output = K.layers.Dropout(rate=0.3)(output)\n",
        "output = K.layers.Dense(units=NUM_BASE_MODEL_OUTPUT, kernel_initializer=K.initializers.GlorotUniform(), activation=None)(output)\n",
        "output = K.layers.BatchNormalization()(output)\n",
        "output = K.layers.Activation(K.activations.relu)(output)\n",
        "\n",
        "output = K.layers.Dropout(rate=0.4)(output)\n",
        "output = K.layers.Dense(units=NUM_BASE_MODEL_OUTPUT, kernel_initializer=K.initializers.GlorotUniform(), activation=None)(output)\n",
        "output = K.layers.BatchNormalization()(output)\n",
        "output = K.layers.Activation(K.activations.relu)(output)\n",
        "output = K.layers.Dense(\n",
        "    units=NUM_LABELS,\n",
        "    kernel_initializer=K.initializers.GlorotUniform(),\n",
        "    kernel_regularizer=K.regularizers.l2(l2=0.01),\n",
        "    activation=K.activations.softmax\n",
        ")(output)\n",
        "\n",
        "model = K.models.Model(inputs=[input_ids, attention_mask], outputs=output, name='stance-model')\n",
        "model.summary()"
      ]
    },
    {
      "cell_type": "code",
      "execution_count": 20,
      "metadata": {
        "colab": {
          "base_uri": "https://localhost:8080/"
        },
        "id": "GSlJodOVX_p-",
        "outputId": "a9535926-3988-41c6-f9af-3eff48653b9b"
      },
      "outputs": [
        {
          "name": "stdout",
          "output_type": "stream",
          "text": [
            "Epoch 1/10\n",
            "115/115 [==============================] - 47s 250ms/step - loss: 0.4424 - accuracy: 0.5043 - val_loss: 1.0899 - val_accuracy: 0.5577\n",
            "Epoch 2/10\n",
            "115/115 [==============================] - 28s 240ms/step - loss: 0.3524 - accuracy: 0.5826 - val_loss: 1.2578 - val_accuracy: 0.4808\n",
            "Epoch 3/10\n",
            "115/115 [==============================] - 27s 237ms/step - loss: 0.3154 - accuracy: 0.6196 - val_loss: 0.9190 - val_accuracy: 0.6154\n",
            "Epoch 4/10\n",
            "115/115 [==============================] - 28s 243ms/step - loss: 0.2730 - accuracy: 0.7000 - val_loss: 1.8423 - val_accuracy: 0.6154\n",
            "Epoch 5/10\n",
            "115/115 [==============================] - 27s 238ms/step - loss: 0.2521 - accuracy: 0.7196 - val_loss: 1.3067 - val_accuracy: 0.4615\n",
            "Epoch 6/10\n",
            "115/115 [==============================] - 28s 242ms/step - loss: 0.2292 - accuracy: 0.7370 - val_loss: 1.1285 - val_accuracy: 0.7115\n",
            "Epoch 7/10\n",
            "115/115 [==============================] - 28s 240ms/step - loss: 0.2196 - accuracy: 0.7630 - val_loss: 0.8338 - val_accuracy: 0.7308\n",
            "Epoch 8/10\n",
            "115/115 [==============================] - 27s 237ms/step - loss: 0.2057 - accuracy: 0.7717 - val_loss: 1.7656 - val_accuracy: 0.6346\n",
            "Epoch 9/10\n",
            "115/115 [==============================] - 27s 238ms/step - loss: 0.1845 - accuracy: 0.8109 - val_loss: 0.8249 - val_accuracy: 0.7692\n",
            "Epoch 10/10\n",
            "115/115 [==============================] - 27s 238ms/step - loss: 0.1420 - accuracy: 0.8913 - val_loss: 1.4094 - val_accuracy: 0.6731\n"
          ]
        }
      ],
      "source": [
        "model.compile(\n",
        "    optimizer=tf.keras.optimizers.Adam(learning_rate=5e-5),\n",
        "    loss=tf.keras.losses.SparseCategoricalCrossentropy(from_logits=False),\n",
        "    metrics=['accuracy'],\n",
        ")\n",
        "\n",
        "history = model.fit(\n",
        "    train_dataset,\n",
        "    epochs=10,\n",
        "    class_weight=class_weights,\n",
        "    validation_data=val_dataset\n",
        ")"
      ]
    },
    {
      "cell_type": "code",
      "execution_count": 22,
      "metadata": {
        "colab": {
          "base_uri": "https://localhost:8080/"
        },
        "id": "qxaWA54lYMrg",
        "outputId": "f7735c29-7a79-4f66-e187-46cc7e2fc3c3"
      },
      "outputs": [
        {
          "name": "stdout",
          "output_type": "stream",
          "text": [
            "55/55 [==============================] - 4s 80ms/step - loss: 1.3288 - accuracy: 0.7091\n"
          ]
        },
        {
          "data": {
            "text/plain": [
              "[1.3288100957870483, 0.7090908885002136]"
            ]
          },
          "execution_count": 22,
          "metadata": {},
          "output_type": "execute_result"
        }
      ],
      "source": [
        "model.evaluate(test_dataset)"
      ]
    },
    {
      "cell_type": "code",
      "execution_count": 23,
      "metadata": {
        "colab": {
          "base_uri": "https://localhost:8080/"
        },
        "id": "_0Vhw66MYabb",
        "outputId": "407c2ae4-938a-420f-bc77-fe95ba45cd72"
      },
      "outputs": [
        {
          "name": "stdout",
          "output_type": "stream",
          "text": [
            "13/13 [==============================] - 2s 80ms/step\n",
            "[1 1 1 1 1 1 1 2 1 1 1 2 2 2 1 2 1 1 1 2 1 1 1 1 1 1 2 2 2 1 2 1 1 2 0 1 1\n",
            " 1 2 1 1 1 2 1 1 1 1 2 1 2 1 1]\n",
            "              precision    recall  f1-score   support\n",
            "\n",
            "           0       1.00      0.08      0.15        12\n",
            "           1       0.78      0.90      0.84        31\n",
            "           2       0.40      0.67      0.50         9\n",
            "\n",
            "    accuracy                           0.67        52\n",
            "   macro avg       0.73      0.55      0.50        52\n",
            "weighted avg       0.76      0.67      0.62        52\n",
            "\n"
          ]
        }
      ],
      "source": [
        "y_pred = model.predict(val_dataset)\n",
        "predicted_labels = np.argmax(y_pred, axis=-1)\n",
        "print(predicted_labels)\n",
        "\n",
        "print(classification_report(df_val['label'], predicted_labels, target_names=['0', '1', '2']))"
      ]
    },
    {
      "cell_type": "code",
      "execution_count": 24,
      "metadata": {
        "colab": {
          "base_uri": "https://localhost:8080/"
        },
        "id": "NP7fmmosmMK7",
        "outputId": "10959308-20b1-482e-d80c-c086b6bbccc6"
      },
      "outputs": [
        {
          "name": "stdout",
          "output_type": "stream",
          "text": [
            "Sample 13: Predicted class: 2 | True class: 2\n",
            "Sample 40: Predicted class: 1 | True class: 1\n",
            "Sample 25: Predicted class: 1 | True class: 1\n",
            "Sample 41: Predicted class: 1 | True class: 1\n",
            "Sample 10: Predicted class: 1 | True class: 1\n",
            "Sample 32: Predicted class: 1 | True class: 1\n",
            "Sample 26: Predicted class: 2 | True class: 0\n",
            "Sample 39: Predicted class: 1 | True class: 1\n",
            "Sample 29: Predicted class: 1 | True class: 1\n",
            "Sample 34: Predicted class: 0 | True class: 0\n"
          ]
        }
      ],
      "source": [
        "for idx in random.sample(range(len(df_val)), 10):\n",
        "    sample_true_label = df_val.iloc[idx]['label']\n",
        "    sample_text = df_val.iloc[idx]['text']\n",
        "    t = tokenize(sample_text)\n",
        "\n",
        "    sample_prediction = model.predict([t['input_ids'], t['attention_mask']], verbose=0)\n",
        "    sample_predicted_label = np.argmax(sample_prediction, axis=-1)[0]\n",
        "\n",
        "    print(\"Sample {}: Predicted class: {} | True class: {}\".format(idx, sample_predicted_label, sample_true_label))"
      ]
    }
  ],
  "metadata": {
    "accelerator": "GPU",
    "colab": {
      "gpuType": "T4",
      "provenance": []
    },
    "kernelspec": {
      "display_name": "Python 3",
      "name": "python3"
    },
    "language_info": {
      "codemirror_mode": {
        "name": "ipython",
        "version": 3
      },
      "file_extension": ".py",
      "mimetype": "text/x-python",
      "name": "python",
      "nbconvert_exporter": "python",
      "pygments_lexer": "ipython3",
      "version": "3.10.14"
    }
  },
  "nbformat": 4,
  "nbformat_minor": 0
}
